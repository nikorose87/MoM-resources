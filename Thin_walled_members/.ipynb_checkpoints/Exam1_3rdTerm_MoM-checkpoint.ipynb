{
 "cells": [
  {
   "cell_type": "markdown",
   "id": "5bb8e8e1",
   "metadata": {},
   "source": [
    "# Primera Evaluación Corte 3\n",
    "## Resistencia de Materiales\n",
    "\n",
    "### Problema 1 (3 unidades)\n",
    "\n",
    "Para la viga dada, considere la sección n-n y determina lo siguiente:\n",
    "\n",
    "1. El mayor esfuerzo cortante en la sección \n",
    "2. Determine el esfuerzo cortante en el punto A\n",
    "\n",
    "![sheaing](shearing1.png)\n",
    "\n",
    "Considere una carga de X kN hacia abajo, siendo X el último dígito de su código, de ser 0 considere 30 kN. Ejemplo: 300000054122 tiene una carga de 20 kN, para 30000054210 su carga es de 30 kN.\n",
    "\n",
    "### Problema 2 (2 unidades)\n",
    "\n",
    "El diseño de una viga requiere soldadura en cada una de las seis vigas horizontales, las cuales van conectadas a la viga vertical de $0.5\\times0.5$. Para una fuerza cortante V, determine la distancia $h$ para el cual el flujo cortante a través de la superficie soldada es la máxima.\n",
    "\n",
    "![shearin2](shearing2.png)\n",
    "\n"
   ]
  }
 ],
 "metadata": {
  "kernelspec": {
   "display_name": "Python 3",
   "language": "python",
   "name": "python3"
  },
  "language_info": {
   "codemirror_mode": {
    "name": "ipython",
    "version": 3
   },
   "file_extension": ".py",
   "mimetype": "text/x-python",
   "name": "python",
   "nbconvert_exporter": "python",
   "pygments_lexer": "ipython3",
   "version": "3.8.8"
  }
 },
 "nbformat": 4,
 "nbformat_minor": 5
}
