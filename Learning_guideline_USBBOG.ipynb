{
  "nbformat": 4,
  "nbformat_minor": 0,
  "metadata": {
    "colab": {
      "name": "Learning_guideline_USBBOG.ipynb",
      "provenance": [],
      "collapsed_sections": [],
      "include_colab_link": true
    },
    "kernelspec": {
      "display_name": "Python 3",
      "language": "python",
      "name": "python3"
    },
    "language_info": {
      "codemirror_mode": {
        "name": "ipython",
        "version": 3
      },
      "file_extension": ".py",
      "mimetype": "text/x-python",
      "name": "python",
      "nbconvert_exporter": "python",
      "pygments_lexer": "ipython3",
      "version": "3.7.7"
    },
    "latex_envs": {
      "LaTeX_envs_menu_present": true,
      "autoclose": false,
      "autocomplete": true,
      "bibliofile": "biblio.bib",
      "cite_by": "apalike",
      "current_citInitial": 1,
      "eqLabelWithNumbers": true,
      "eqNumInitial": 1,
      "hotkeys": {
        "equation": "Ctrl-E",
        "itemize": "Ctrl-I"
      },
      "labels_anchors": false,
      "latex_user_defs": false,
      "report_style_numbering": false,
      "user_envs_cfg": false
    }
  },
  "cells": [
    {
      "cell_type": "markdown",
      "metadata": {
        "id": "view-in-github",
        "colab_type": "text"
      },
      "source": [
        "<a href=\"https://colab.research.google.com/github/nikorose87/MoM-resources/blob/main/Learning_guideline_USBBOG.ipynb\" target=\"_parent\"><img src=\"https://colab.research.google.com/assets/colab-badge.svg\" alt=\"Open In Colab\"/></a>"
      ]
    },
    {
      "cell_type": "markdown",
      "metadata": {
        "id": "NcI1JfH-CJmd"
      },
      "source": [
        "#Introductory video\n"
      ]
    },
    {
      "cell_type": "code",
      "metadata": {
        "colab": {
          "base_uri": "https://localhost:8080/",
          "height": 336
        },
        "id": "fGvS26KXCOn2",
        "outputId": "29f56a07-cc07-4f42-8a02-0663a84e845f"
      },
      "source": [
        "from IPython.display import HTML\n",
        "HTML('<iframe width=\"560\" height=\"315\" src=\"https://www.youtube.com/embed/lrv8ga02VNg\" frameborder=\"0\" allow=\"accelerometer; autoplay; clipboard-write; encrypted-media; gyroscope; picture-in-picture\" allowfullscreen></iframe>')"
      ],
      "execution_count": null,
      "outputs": [
        {
          "output_type": "execute_result",
          "data": {
            "text/html": [
              "<iframe width=\"560\" height=\"315\" src=\"https://www.youtube.com/embed/lrv8ga02VNg\" frameborder=\"0\" allow=\"accelerometer; autoplay; clipboard-write; encrypted-media; gyroscope; picture-in-picture\" allowfullscreen></iframe>"
            ],
            "text/plain": [
              "<IPython.core.display.HTML object>"
            ]
          },
          "metadata": {
            "tags": []
          },
          "execution_count": 3
        }
      ]
    },
    {
      "cell_type": "markdown",
      "metadata": {
        "id": "nYopqRE06Ej-"
      },
      "source": [
        "# Learning Guideline No. 1\n",
        "## Learning python from scratch\n",
        "\n",
        "![usbbog_logo.png](usbbog_logo.png)\n",
        "\n",
        "This notebook will guide you through the basics of the python programming language. Python is quite similar to Matlab and is easy to combine with other programming languages as Fortran, C and/or C++. Moreover, in the field of Artificial Intelligence python has the most contributing libraries to develop AI solutions.\n",
        "\n",
        "Now, without any further ado let us go with the basics. You will learn at first how to manipulate strings, numbers, conditionals, lists and Dictionaries. Later, you can go further with \"For loops\", fucntions and testing.\n",
        "\n",
        "## Python Basics\n",
        "\n",
        "1. [Strings](https://github.com/jerry-git/learn-python3/blob/master/notebooks/beginner/notebooks/strings.ipynb)\n",
        "2. [Numbers](https://github.com/jerry-git/learn-python3/blob/master/notebooks/beginner/notebooks/numbers.ipynb)\n",
        "3. [Conditionals](https://github.com/jerry-git/learn-python3/blob/master/notebooks/beginner/notebooks/conditionals.ipynb)\n",
        "4. [Lists](https://github.com/jerry-git/learn-python3/blob/master/notebooks/beginner/notebooks/lists.ipynb)\n",
        "5. [Dictionaries](https://github.com/jerry-git/learn-python3/blob/master/notebooks/beginner/notebooks/dictionaries.ipynb)\n",
        "\n",
        "\n",
        "\n",
        "Taken from https://github.com/jerry-git/learn-python3, revised July 2020.\n",
        "\n",
        "## For loops \n",
        "\n",
        "This time you will learn by your own...\n",
        "\n",
        "### 1. While loop\n",
        "\n",
        "Generate odd numbers. Write a program that generates all odd numbers from 1 to n. Set n in the\n",
        "beginning of the program and use a while loop to compute the numbers. (Make sure that if n is\n",
        "an even number, the largest generated odd number is n-1.)"
      ]
    },
    {
      "cell_type": "code",
      "metadata": {
        "colab": {
          "background_save": true
        },
        "id": "-iloioCg6EkG"
      },
      "source": [
        ""
      ],
      "execution_count": null,
      "outputs": []
    },
    {
      "cell_type": "markdown",
      "metadata": {
        "id": "6VlNBhiq6EkR"
      },
      "source": [
        "### 2. While loop\n",
        "\n",
        "Store odd numbers in a list. Modify the program from the previous exercise to store the generated\n",
        "odd numbers in a list. Start with an empty list and use a while loop where you in each pass of the\n",
        "loop append a new element to the list. Finally, print the list elements to the screen."
      ]
    },
    {
      "cell_type": "code",
      "metadata": {
        "id": "c0MECdXL6EkT"
      },
      "source": [
        "### write your code here"
      ],
      "execution_count": null,
      "outputs": []
    },
    {
      "cell_type": "markdown",
      "metadata": {
        "id": "_3ymOOj66EkY"
      },
      "source": [
        "### 3. For loops\n",
        "\n",
        "Generate odd numbers by a list comprehension. Solve Exercise 2 using a list comprehension (with\n",
        "for and range)."
      ]
    },
    {
      "cell_type": "code",
      "metadata": {
        "id": "qtzUemK16EkZ"
      },
      "source": [
        "### write your code here"
      ],
      "execution_count": null,
      "outputs": []
    },
    {
      "cell_type": "markdown",
      "metadata": {
        "id": "Vc8eCgUe6Eke"
      },
      "source": [
        "### 4. Functions\n",
        "\n",
        "Make a table of values from the following formula. Write a program that prints a nicely formatted table of t\n",
        "and y(t) values, where:\n",
        "\n",
        "$$y(t)=v_{0}t-\\frac{1}{2}gt^2$$\n",
        "\n",
        "Use n uniformly spaced $t$ values throughout the interval (0,$\\frac{2v_{0}}{g}$). Set $v_{0} =1$ and n = 11."
      ]
    },
    {
      "cell_type": "code",
      "metadata": {
        "id": "CpKZKDW36Eke"
      },
      "source": [
        "### write your code here"
      ],
      "execution_count": null,
      "outputs": []
    },
    {
      "cell_type": "markdown",
      "metadata": {
        "id": "xo0BjKtu6Ekj"
      },
      "source": [
        "### 5. Functions 2\n",
        "\n",
        "Store values from the previous formula. Modify the program from Exercise 4 so that the $t$ and $y$ values\n",
        "are stored in two lists $t$ and $y$. Thereafter, transverse the lists with a for loop and write out a nicely\n",
        "formatted table of $t$ and $y$ values (using either a zip or range construction). Set $v_{0}$ =10 and $n$ = 81."
      ]
    },
    {
      "cell_type": "code",
      "metadata": {
        "id": "OqJ3mIkDIxp6"
      },
      "source": [
        "### write your code here"
      ],
      "execution_count": null,
      "outputs": []
    },
    {
      "cell_type": "markdown",
      "metadata": {
        "id": "So0Dy22e6Eks"
      },
      "source": [
        "### 6. Indented lists\n",
        "\n",
        "Work with a list. Set a variable primes to a list containing the numbers 2, 3, 5, 7,11, and 13. Write\n",
        "out each list element in a for loop. Assign 17 to a variable p and add p to the end of the list. Print\n",
        "out the whole new list."
      ]
    },
    {
      "cell_type": "code",
      "metadata": {
        "id": "ZspPJtut6Ekt"
      },
      "source": [
        "### write your code here"
      ],
      "execution_count": null,
      "outputs": []
    },
    {
      "cell_type": "markdown",
      "metadata": {
        "id": "gaC0joyl6Eky"
      },
      "source": [
        "After completing these exercises you are able to continue with the next task.\n",
        "\n",
        "\n",
        "Built by,\n",
        "\n",
        "Prof. Nikolay Prieto Ph.D(c)\n",
        "Updated on July 2020"
      ]
    }
  ]
}